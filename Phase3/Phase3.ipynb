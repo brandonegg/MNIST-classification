{
 "cells": [
  {
   "cell_type": "code",
   "execution_count": 83,
   "metadata": {},
   "outputs": [],
   "source": [
    "%matplotlib inline\n",
    "import numpy as np\n",
    "import matplotlib.pyplot as plt\n",
    "from scipy import stats\n",
    "from sklearn.datasets import fetch_openml\n",
    "import pickle\n",
    "from scipy.special import expit\n",
    "from sklearn.model_selection import train_test_split\n",
    "from sklearn.svm import SVC, LinearSVC # \"Support vector classifier\"\n"
   ]
  },
  {
   "cell_type": "markdown",
   "metadata": {},
   "source": [
    "## Open MNIST data and create a subset with desired digits\n",
    "\n",
    "<font color=red>Change the code below to select a different subset </font>"
   ]
  },
  {
   "cell_type": "code",
   "execution_count": 84,
   "metadata": {},
   "outputs": [],
   "source": [
    "X, y = fetch_openml(\"mnist_784\", version=1, return_X_y=True, as_frame=False)\n",
    "y = np.asarray([int(numeric_string) for numeric_string in y])\n",
    "\n",
    "with open('temp.pickle', 'wb') as handle:\n",
    "    pickle.dump([X, y], handle)"
   ]
  },
  {
   "cell_type": "code",
   "execution_count": 85,
   "metadata": {},
   "outputs": [
    {
     "name": "stdout",
     "output_type": "stream",
     "text": [
      "(14780, 784)\n",
      "(10346, 784) (1478, 784) (2956, 784)\n",
      "(10346,) (1478,) (2956,)\n"
     ]
    }
   ],
   "source": [
    "\n",
    "# loading the temporary variables for fast retrieval\n",
    "with open('temp.pickle', 'rb') as handle:\n",
    "    X, y = pickle.load(handle)\n",
    "    \n",
    "digits = (0,1)\n",
    "indices = y==digits[0]\n",
    "for i in digits:\n",
    "    indices = indices | (y==i)\n",
    "\n",
    "Xnew = X[indices]\n",
    "ynew = y[indices]\n",
    "#ynew = 0*digit1index[index]+digit2index[index]\n",
    "Nfeatures = np.size(Xnew,1)\n",
    "Nsamples = np.size(Xnew,0)\n",
    "\n",
    "print(Xnew.shape)\n",
    "\n",
    "X_train, X_test, y_train, y_test = train_test_split(Xnew, ynew, test_size=0.2, random_state=1)\n",
    "X_train, X_val, y_train, y_val = train_test_split(X_train, y_train, test_size=0.125, random_state=1) # 0.25 x 0.8 = 0.2\n",
    "'''\n",
    "X_train, X_test, y_train, y_test = train_test_split(Xnew, ynew, test_size=0.3, random_state=1)\n",
    "\n",
    " \n",
    "X_train, X_test, y_train, y_test = train_test_split(Xnew, ynew, test_size=0.3, random_state=1)\n",
    "X_train, X_val, y_train, y_val = train_test_split(X_train, y_train, test_size=0.14, random_state=1) # 0.25 x 0.8 = 0.2\n",
    "'''\n",
    "\n",
    "Nsamples = X_train.shape[0]\n",
    "Nfeatures = X_train.shape[1]\n",
    "\n",
    "print(X_train.shape, X_val.shape, X_test.shape)\n",
    "print(y_train.shape, y_val.shape, y_test.shape)"
   ]
  },
  {
   "cell_type": "code",
   "execution_count": 86,
   "metadata": {},
   "outputs": [
    {
     "name": "stdout",
     "output_type": "stream",
     "text": [
      "[44 32]\n",
      "(76, 784)\n"
     ]
    }
   ],
   "source": [
    "# Plotting the support vectors\n",
    "clf = SVC(kernel='linear')\n",
    "clf.fit(X_train, y_train)\n",
    "sv = clf.support_vectors_\n",
    "print(clf.n_support_)\n",
    "print(sv.shape)"
   ]
  },
  {
   "cell_type": "code",
   "execution_count": 87,
   "metadata": {},
   "outputs": [
    {
     "name": "stdout",
     "output_type": "stream",
     "text": [
      "(1, 76)\n"
     ]
    }
   ],
   "source": [
    "# Plotting the dual coefficients\n",
    "dc = clf.dual_coef_\n",
    "print(dc.shape)"
   ]
  },
  {
   "cell_type": "code",
   "execution_count": 88,
   "metadata": {},
   "outputs": [
    {
     "ename": "TypeError",
     "evalue": "decision_function() missing 1 required positional argument: 'X'",
     "output_type": "error",
     "traceback": [
      "\u001b[0;31m---------------------------------------------------------------------------\u001b[0m",
      "\u001b[0;31mTypeError\u001b[0m                                 Traceback (most recent call last)",
      "Cell \u001b[0;32mIn [88], line 1\u001b[0m\n\u001b[0;32m----> 1\u001b[0m clf\u001b[39m.\u001b[39;49mdecision_function()\n",
      "\u001b[0;31mTypeError\u001b[0m: decision_function() missing 1 required positional argument: 'X'"
     ]
    }
   ],
   "source": [
    "clf.decision_function()"
   ]
  }
 ],
 "metadata": {
  "anaconda-cloud": {},
  "kernelspec": {
   "display_name": "Python 3.9.15 ('ml-proj')",
   "language": "python",
   "name": "python3"
  },
  "language_info": {
   "codemirror_mode": {
    "name": "ipython",
    "version": 3
   },
   "file_extension": ".py",
   "mimetype": "text/x-python",
   "name": "python",
   "nbconvert_exporter": "python",
   "pygments_lexer": "ipython3",
   "version": "3.9.15"
  },
  "vscode": {
   "interpreter": {
    "hash": "a34231050d3aad25f76f2f2118bebc85cc115d62f7420b94571d1b1ec9b371fd"
   }
  }
 },
 "nbformat": 4,
 "nbformat_minor": 4
}

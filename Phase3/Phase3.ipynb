{
 "cells": [
  {
   "cell_type": "code",
   "execution_count": 1,
   "metadata": {},
   "outputs": [],
   "source": [
    "%matplotlib inline\n",
    "import numpy as np\n",
    "import matplotlib.pyplot as plt\n",
    "from scipy import stats\n",
    "from sklearn.datasets import fetch_openml\n",
    "import pickle\n",
    "from scipy.special import expit\n",
    "from sklearn.model_selection import train_test_split\n",
    "from sklearn.svm import SVC # \"Support vector classifier\"\n"
   ]
  },
  {
   "cell_type": "markdown",
   "metadata": {},
   "source": [
    "## Open MNIST data and create a subset with desired digits\n",
    "\n",
    "<font color=red>Change the code below to select a different subset </font>"
   ]
  },
  {
   "cell_type": "code",
   "execution_count": 4,
   "metadata": {},
   "outputs": [],
   "source": [
    "#X, y = fetch_openml(\"mnist_784\", version=1, return_X_y=True, as_frame=False)\n",
    "#y = np.asarray([int(numeric_string) for numeric_string in y])\n",
    "\n",
    "#with open('temp.pickle', 'wb') as handle:\n",
    "#    pickle.dump([X, y], handle)"
   ]
  },
  {
   "cell_type": "code",
   "execution_count": 8,
   "metadata": {},
   "outputs": [
    {
     "name": "stdout",
     "output_type": "stream",
     "text": [
      "(17293, 784) (2816, 784) (8619, 784)\n",
      "(17293,) (2816,) (8619,)\n"
     ]
    }
   ],
   "source": [
    "\n",
    "# loading the temporary variables for fast retrieval\n",
    "with open('temp.pickle', 'rb') as handle:\n",
    "    X, y = pickle.load(handle)\n",
    "    \n",
    "digits = (0,1,2,9)\n",
    "indices = y==digits[0]\n",
    "for i in digits:\n",
    "    indices = indices | (y==i)\n",
    "\n",
    "Xnew = X[indices]\n",
    "ynew = y[indices]\n",
    "#ynew = 0*digit1index[index]+digit2index[index]\n",
    "Nfeatures = np.size(Xnew,1)\n",
    "Nsamples = np.size(Xnew,0)\n",
    "X_train, X_test, y_train, y_test = train_test_split(Xnew, ynew, test_size=0.3, random_state=1)\n",
    "\n",
    " \n",
    "X_train, X_test, y_train, y_test = train_test_split(Xnew, ynew, test_size=0.3, random_state=1)\n",
    "X_train, X_val, y_train, y_val = train_test_split(X_train, y_train, test_size=0.14, random_state=1) # 0.25 x 0.8 = 0.2\n",
    "\n",
    "Nsamples = X_train.shape[0]\n",
    "Nfeatures = X_train.shape[1]\n",
    "\n",
    "print(X_train.shape, X_val.shape,X_test.shape)\n",
    "print(y_train.shape, y_val.shape,y_test.shape)"
   ]
  }
 ],
 "metadata": {
  "anaconda-cloud": {},
  "kernelspec": {
   "display_name": "Python 3 (ipykernel)",
   "language": "python",
   "name": "python3"
  },
  "language_info": {
   "codemirror_mode": {
    "name": "ipython",
    "version": 3
   },
   "file_extension": ".py",
   "mimetype": "text/x-python",
   "name": "python",
   "nbconvert_exporter": "python",
   "pygments_lexer": "ipython3",
   "version": "3.9.1"
  }
 },
 "nbformat": 4,
 "nbformat_minor": 4
}

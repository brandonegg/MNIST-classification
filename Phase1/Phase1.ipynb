{
 "cells": [
  {
   "cell_type": "code",
   "execution_count": 1,
   "metadata": {},
   "outputs": [],
   "source": [
    "%matplotlib inline\n",
    "import numpy as np\n",
    "import matplotlib.pyplot as plt\n",
    "from scipy import stats\n",
    "from sklearn.datasets import fetch_openml\n",
    "import pickle\n",
    "from scipy.special import expit\n",
    "from sklearn.model_selection import train_test_split"
   ]
  },
  {
   "cell_type": "markdown",
   "metadata": {},
   "source": [
    "## Open MNIST data and create a subset with desired digits\n",
    "\n",
    "<font color=red>Change the code below to select a different subset </font>"
   ]
  },
  {
   "cell_type": "code",
   "execution_count": 2,
   "metadata": {},
   "outputs": [],
   "source": [
    "X, y = fetch_openml(\"mnist_784\", version=1, return_X_y=True, as_frame=False)\n",
    "y = np.asarray([int(numeric_string) for numeric_string in y])\n",
    "\n",
    "# Change \n",
    "class1Indices = (y==3)\n",
    "class2Indices = (y==4)\n",
    "\n",
    "x1 = X[class1Indices]\n",
    "x2 = X[class2Indices]\n",
    "\n",
    "Xtrain = np.concatenate((x1,x2),axis=0)\n",
    "ytrain = np.concatenate((np.zeros(x1.shape[0]),np.ones(x2.shape[0])),axis=0)\n",
    "\n",
    "# Saving the temporary variables for fast retrieval\n",
    "with open('temp.pickle', 'wb') as handle:\n",
    "    pickle.dump([Xtrain, ytrain], handle)\n"
   ]
  },
  {
   "cell_type": "markdown",
   "metadata": {},
   "source": [
    "# Split the data to training, testing, and validation subsets"
   ]
  },
  {
   "cell_type": "code",
   "execution_count": 3,
   "metadata": {},
   "outputs": [],
   "source": [
    "# loading the temporary variables for fast retrieval\n",
    "with open('temp.pickle', 'rb') as handle:\n",
    "    Xtrain, ytrain = pickle.load(handle)\n",
    "    \n",
    "# Split the data to training, testing, and validation subsets\n",
    "    \n",
    "X_train, X_test, y_train, y_test = train_test_split(Xtrain, ytrain, test_size=0.3, random_state=1) # QUESTION: This should be 0.2?\n",
    "\n",
    "X_train, X_val, y_train, y_val = train_test_split(X_train, y_train, test_size=0.14, random_state=1) # 0.25 x 0.8 = 0.2, # QUESTION: this should be 0.1?\n",
    "\n",
    "\n",
    "Nsamples = X_train.shape[0]\n",
    "Nfeatures = X_train.shape[1]\n"
   ]
  },
  {
   "cell_type": "markdown",
   "metadata": {},
   "source": [
    "# Accuracy of a classifier"
   ]
  },
  {
   "cell_type": "code",
   "execution_count": 4,
   "metadata": {},
   "outputs": [],
   "source": [
    "def testLinearClassifier(a,X,y):\n",
    "    misclassifications = 0\n",
    "\n",
    "    for i in range(0, len(X)):\n",
    "        x_tilde = np.hstack((X[i], 1))\n",
    "        y_estimate = np.matmul(a.T, x_tilde)\n",
    "\n",
    "        if y_estimate <= 0 and y[i] == 1:\n",
    "            misclassifications += 1\n",
    "        if y_estimate > 0 and y[i] == 0:\n",
    "            misclassifications += 1\n",
    "        \n",
    "    print(f\"Mis-classifications= {misclassifications} out of {len(X)} equivalent to {misclassifications / len(X)} %\")\n",
    "\n",
    "    return misclassifications\n"
   ]
  },
  {
   "cell_type": "markdown",
   "metadata": {},
   "source": [
    "## Define and test gaussianClassifierWithIdentityCovariance "
   ]
  },
  {
   "cell_type": "code",
   "execution_count": 5,
   "metadata": {},
   "outputs": [
    {
     "name": "stdout",
     "output_type": "stream",
     "text": [
      "Mis-classifications= 194 out of 8406 equivalent to 0.023078753271472758 %\n",
      "Mis-classifications= 27 out of 1369 equivalent to 0.019722425127830533 %\n",
      "Mis-classifications= 86 out of 4190 equivalent to 0.02052505966587112 %\n"
     ]
    },
    {
     "data": {
      "image/png": "[encoded data removed]",
      "text/plain": [
       "<Figure size 640x480 with 1 Axes>"
      ]
     },
     "metadata": {},
     "output_type": "display_data"
    }
   ],
   "source": [
    "#------TRAINING CODE --------------\n",
    "\n",
    "def gaussianClassifierWithIdentityCovariance(Xtrain,ytrain):\n",
    "    class1_indices = (ytrain==0)\n",
    "    class2_indices = (ytrain==1)\n",
    "    xTrain1 = Xtrain[class1_indices]\n",
    "    xTrain2 = Xtrain[class2_indices]\n",
    "\n",
    "    #mean should be a 1 x 784 size matrix\n",
    "    u1 = np.mean(xTrain1, axis = 0)\n",
    "    u2 = np.mean(xTrain2, axis = 0)\n",
    "\n",
    "    identity_cov = np.identity(len(u1))\n",
    "    wT = np.matmul(np.transpose(u2-u1), np.linalg.inv(identity_cov)) # REF: Decision HyperSurfaces (slide 28)\n",
    "    wNot = -1* np.matmul(wT, (u1+u2)/2)\n",
    "\n",
    "    a = np.transpose(np.hstack((wT, wNot))) # REF: Project phase 1 description\n",
    "    \n",
    "    return a\n",
    "\n",
    "\n",
    "#------SIMPLE TESTING ON THE TRAINING DATA ITSELF --------------\n",
    "a = gaussianClassifierWithIdentityCovariance(X_train,y_train)\n",
    "plt.imshow(np.reshape(a[0:784],(28,28)))\n",
    "\n",
    "train = testLinearClassifier(a,X_train,y_train)\n",
    "val = testLinearClassifier(a,X_val,y_val)\n",
    "test = testLinearClassifier(a,X_test,y_test)\n"
   ]
  },
  {
   "cell_type": "markdown",
   "metadata": {},
   "source": [
    "## Define and test gaussianClassifierWithCommonCovariance "
   ]
  },
  {
   "cell_type": "code",
   "execution_count": 12,
   "metadata": {},
   "outputs": [
    {
     "name": "stdout",
     "output_type": "stream",
     "text": [
      "Mis-classifications= 554 out of 8406 equivalent to 0.06590530573399953 %\n",
      "Mis-classifications= 86 out of 1369 equivalent to 0.06281957633308985 %\n",
      "Mis-classifications= 276 out of 4190 equivalent to 0.06587112171837708 %\n"
     ]
    },
    {
     "data": {
      "image/png": "[encoded data removed]",
      "text/plain": [
       "<Figure size 640x480 with 1 Axes>"
      ]
     },
     "metadata": {},
     "output_type": "display_data"
    }
   ],
   "source": [
    "#------TRAINING CODE --------------\n",
    "\n",
    "def gaussianClassifierWithCommonCovariance(Xtrain,ytrain):\n",
    "    class1_indices = (ytrain==0)\n",
    "    class2_indices = (ytrain==1)\n",
    "    xTrain1 = Xtrain[class1_indices]\n",
    "    xTrain2 = Xtrain[class2_indices]\n",
    "\n",
    "    # Means\n",
    "    u1 = np.mean(xTrain1, axis=0)\n",
    "    u2 = np.mean(xTrain2, axis=0)\n",
    "\n",
    "    # Creating the Shared COV\n",
    "    class1_demeaned = xTrain1 - u1[None, :]\n",
    "    class2_demeaned = xTrain2 - u2[None, :]\n",
    "    pooled_features = np.row_stack([class1_demeaned,class2_demeaned])\n",
    "    shared_cov = np.cov(np.transpose(pooled_features)) # Ref: Decision_Surfaces MA\n",
    "\n",
    "    # np.linalg.inv() returns error, but using normal matrix works?\n",
    "    wT = np.matmul(np.transpose(u2-u1), np.linalg.inv(shared_cov)) # REF: Decision HyperSurfaces (slide 28)\n",
    "    wNot = -1* np.matmul(wT, (u1+u2)/2)\n",
    "\n",
    "    a = np.transpose(np.hstack((wT, wNot))) # REF: Project phase 1 description\n",
    "\n",
    "    return a\n",
    "    \n",
    "#------SIMPLE TESTING ON THE TRAINING DATA ITSELF --------------\n",
    "a = gaussianClassifierWithCommonCovariance(X_train,y_train)\n",
    "plt.imshow(np.reshape(a[0:784],(28,28)))\n",
    "\n",
    "train = testLinearClassifier(a,X_train,y_train)\n",
    "val = testLinearClassifier(a,X_val,y_val)\n",
    "test = testLinearClassifier(a,X_test,y_test)\n"
   ]
  },
  {
   "cell_type": "markdown",
   "metadata": {},
   "source": [
    "## Define and test logisticRegression \n",
    "\n",
    "You may choose the step size as 1e-4. You can try changing it.\n",
    "\n",
    "Use the expit() function from scipy.special.expit to implement sigmoid without overflow errors "
   ]
  },
  {
   "cell_type": "code",
   "execution_count": 13,
   "metadata": {},
   "outputs": [
    {
     "name": "stdout",
     "output_type": "stream",
     "text": [
      "Complete your code\n",
      "Mis-classifications= 5607.0 out of  8897 equivalent to 63.021243115656965 %\n",
      "Mis-classifications= 918.0 out of  1449 equivalent to 63.35403726708075 %\n",
      "Mis-classifications= 2845.0 out of  4434 equivalent to 64.16328371673433 %\n"
     ]
    },
    {
     "data": {
      "image/png": "[encoded data removed]",
      "text/plain": [
       "<Figure size 640x480 with 1 Axes>"
      ]
     },
     "metadata": {},
     "output_type": "display_data"
    }
   ],
   "source": [
    "def logisticRegression(Xtrain,ytrain,iterations=100,step_size=1e-4,verbose=False):\n",
    "\n",
    "    a = 0.01*np.random.randn(Nfeatures+1,1)\n",
    "    print(\"Complete your code\")\n",
    "    \n",
    "    return a\n",
    "    #YOUR CODE HERE\n",
    "    \n",
    "#------SIMPLE TESTING ON THE TRAINING DATA ITSELF --------------\n",
    "a = logisticRegression(X_train,y_train,iterations=500,verbose=False)\n",
    "plt.imshow(np.reshape(a[0:784],(28,28)))\n",
    "\n",
    "train = testLinearClassifier(a,X_train,y_train)\n",
    "val = testLinearClassifier(a,X_val,y_val)\n",
    "test = testLinearClassifier(a,X_test,y_test)\n",
    "\n"
   ]
  },
  {
   "cell_type": "code",
   "execution_count": 14,
   "metadata": {},
   "outputs": [
    {
     "name": "stdout",
     "output_type": "stream",
     "text": [
      "Complete your code\n",
      "Mis-classifications= 4908.0 out of  8897 equivalent to 55.1646622457008 %\n",
      "Mis-classifications= 779.0 out of  1449 equivalent to 53.76121463077985 %\n",
      "Mis-classifications= 2467.0 out of  4434 equivalent to 55.638249887235006 %\n"
     ]
    },
    {
     "data": {
      "image/png": "[encoded data removed]",
      "text/plain": [
       "<Figure size 640x480 with 1 Axes>"
      ]
     },
     "metadata": {},
     "output_type": "display_data"
    }
   ],
   "source": [
    "def logisticRegressionWithRegularization(Xtrain,ytrain,iterations=100,step_size=1e-4,lam=0,verbose=False):\n",
    "\n",
    "\n",
    "    a = 0.01*np.random.randn(Nfeatures+1,1)\n",
    "    print(\"Complete your code\")\n",
    "    \n",
    "    return a\n",
    "    #YOUR CODE HERE\n",
    "\n",
    "    \n",
    "#------SIMPLE TESTING ON THE TRAINING DATA ITSELF --------------\n",
    "a = logisticRegressionWithRegularization(X_train,y_train,iterations=500,verbose=False,lam=1)\n",
    "plt.imshow(np.reshape(a[0:784],(28,28)))\n",
    "\n",
    "train = testLinearClassifier(a,X_train,y_train)\n",
    "val = testLinearClassifier(a,X_val,y_val)\n",
    "test = testLinearClassifier(a,X_test,y_test)\n"
   ]
  },
  {
   "cell_type": "code",
   "execution_count": 83,
   "metadata": {},
   "outputs": [],
   "source": [
    "def optimizeHyperparameters(Xtrain,ytrain):\n",
    "     \n",
    "        # YOUR CODE HERE\n",
    "        \n",
    "    return lamopt\n"
   ]
  },
  {
   "cell_type": "markdown",
   "metadata": {},
   "source": [
    "# REPORT TEST ERRORS OF THE BEST MODELS\n",
    "\n",
    "YOUR CODE BELOW"
   ]
  }
 ],
 "metadata": {
  "anaconda-cloud": {},
  "kernelspec": {
   "display_name": "Python 3.9.15 ('ml-proj')",
   "language": "python",
   "name": "python3"
  },
  "language_info": {
   "codemirror_mode": {
    "name": "ipython",
    "version": 3
   },
   "file_extension": ".py",
   "mimetype": "text/x-python",
   "name": "python",
   "nbconvert_exporter": "python",
   "pygments_lexer": "ipython3",
   "version": "3.9.15"
  },
  "vscode": {
   "interpreter": {
    "hash": "377185a627b76463a688bd7d2587daad57276c4f4b9fd4f7f9ca2d34ea680e06"
   }
  }
 },
 "nbformat": 4,
 "nbformat_minor": 4
}

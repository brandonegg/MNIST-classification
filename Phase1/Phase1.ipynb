{
 "cells": [
  {
   "cell_type": "code",
   "execution_count": 275,
   "metadata": {},
   "outputs": [],
   "source": [
    "%matplotlib inline\n",
    "import numpy as np\n",
    "import matplotlib.pyplot as plt\n",
    "from scipy import stats\n",
    "from sklearn.datasets import fetch_openml\n",
    "import pickle\n",
    "from scipy.special import expit\n",
    "from sklearn.model_selection import train_test_split"
   ]
  },
  {
   "cell_type": "markdown",
   "metadata": {},
   "source": [
    "## Open MNIST data and create a subset with desired digits\n",
    "\n",
    "<font color=red>Change the code below to select a different subset </font>"
   ]
  },
  {
   "cell_type": "code",
   "execution_count": 276,
   "metadata": {},
   "outputs": [],
   "source": [
    "X, y = fetch_openml(\"mnist_784\", version=1, return_X_y=True, as_frame=False)\n",
    "y = np.asarray([int(numeric_string) for numeric_string in y])\n",
    "\n",
    "# Change \n",
    "class1Indices = (y==3)\n",
    "class2Indices = (y==4)\n",
    "\n",
    "x1 = X[class1Indices]\n",
    "x2 = X[class2Indices]\n",
    "\n",
    "Xtrain = np.concatenate((x1,x2),axis=0)\n",
    "ytrain = np.concatenate((np.zeros(x1.shape[0]),np.ones(x2.shape[0])),axis=0)\n",
    "\n",
    "# Saving the temporary variables for fast retrieval\n",
    "with open('temp.pickle', 'wb') as handle:\n",
    "    pickle.dump([Xtrain, ytrain], handle)\n"
   ]
  },
  {
   "cell_type": "markdown",
   "metadata": {},
   "source": [
    "# Split the data to training, testing, and validation subsets"
   ]
  },
  {
   "cell_type": "code",
   "execution_count": 277,
   "metadata": {},
   "outputs": [],
   "source": [
    "# loading the temporary variables for fast retrieval\n",
    "with open('temp.pickle', 'rb') as handle:\n",
    "    Xtrain, ytrain = pickle.load(handle)\n",
    "    \n",
    "# Split the data to training, testing, and validation subsets\n",
    "    \n",
    "X_train, X_test, y_train, y_test = train_test_split(Xtrain, ytrain, test_size=0.3, random_state=1)\n",
    "\n",
    "X_train, X_val, y_train, y_val = train_test_split(X_train, y_train, test_size=0.14, random_state=1)\n",
    "\n",
    "\n",
    "Nsamples = X_train.shape[0]\n",
    "Nfeatures = X_train.shape[1]\n"
   ]
  },
  {
   "cell_type": "markdown",
   "metadata": {},
   "source": [
    "# Accuracy of a classifier"
   ]
  },
  {
   "cell_type": "code",
   "execution_count": 278,
   "metadata": {},
   "outputs": [],
   "source": [
    "def testLinearClassifier(a,X,y, output=False):\n",
    "    misclassifications = 0\n",
    "\n",
    "    for i in range(0, len(X)):\n",
    "        x_tilde = np.hstack((X[i], 1))\n",
    "        y_estimate = np.matmul(a.T, x_tilde)\n",
    "\n",
    "        if y_estimate <= 0 and y[i] == 1:\n",
    "            misclassifications += 1\n",
    "        elif y_estimate > 0 and y[i] == 0:\n",
    "            misclassifications += 1\n",
    "        \n",
    "    if output:\n",
    "        print(f\"Mis-classifications= {misclassifications} out of {len(X)} equivalent to {(misclassifications / len(X))*100} %\")\n",
    "\n",
    "    return misclassifications\n"
   ]
  },
  {
   "cell_type": "markdown",
   "metadata": {},
   "source": [
    "## Define and test gaussianClassifierWithIdentityCovariance "
   ]
  },
  {
   "cell_type": "code",
   "execution_count": 279,
   "metadata": {},
   "outputs": [
    {
     "name": "stdout",
     "output_type": "stream",
     "text": [
      "Mis-classifications= 194 out of 8406 equivalent to 2.3078753271472756 %\n",
      "Mis-classifications= 27 out of 1369 equivalent to 1.9722425127830532 %\n",
      "Mis-classifications= 86 out of 4190 equivalent to 2.052505966587112 %\n"
     ]
    },
    {
     "data": {
      "image/png": "[encoded data removed]",
      "text/plain": [
       "<Figure size 640x480 with 1 Axes>"
      ]
     },
     "metadata": {},
     "output_type": "display_data"
    }
   ],
   "source": [
    "#------TRAINING CODE --------------\n",
    "\n",
    "def gaussianClassifierWithIdentityCovariance(Xtrain,ytrain):\n",
    "    class1_indices = (ytrain==0)\n",
    "    class2_indices = (ytrain==1)\n",
    "    xTrain1 = Xtrain[class1_indices]\n",
    "    xTrain2 = Xtrain[class2_indices]\n",
    "\n",
    "    #mean should be a 1 x 784 size matrix\n",
    "    u1 = np.mean(xTrain1, axis = 0)\n",
    "    u2 = np.mean(xTrain2, axis = 0)\n",
    "\n",
    "    identity_cov = np.identity(len(u1))\n",
    "    wT = np.matmul(np.transpose(u2-u1), np.linalg.pinv(identity_cov)) # REF: Decision HyperSurfaces (slide 28)\n",
    "    wNot = -1* np.matmul(wT, (u1+u2)/2)\n",
    "\n",
    "    a = np.transpose(np.hstack((wT, wNot))) # REF: Project phase 1 description\n",
    "    \n",
    "    return a\n",
    "\n",
    "\n",
    "#------SIMPLE TESTING ON THE TRAINING DATA ITSELF --------------\n",
    "a = gaussianClassifierWithIdentityCovariance(X_train,y_train)\n",
    "plt.imshow(np.reshape(a[0:784],(28,28)))\n",
    "\n",
    "train = testLinearClassifier(a,X_train,y_train, True)\n",
    "val = testLinearClassifier(a,X_val,y_val, True)\n",
    "test = testLinearClassifier(a,X_test,y_test, True)\n"
   ]
  },
  {
   "cell_type": "markdown",
   "metadata": {},
   "source": [
    "## Define and test gaussianClassifierWithCommonCovariance "
   ]
  },
  {
   "cell_type": "code",
   "execution_count": 280,
   "metadata": {},
   "outputs": [
    {
     "name": "stdout",
     "output_type": "stream",
     "text": [
      "Mis-classifications= 56 out of 8406 equivalent to 0.6661908160837497 %\n",
      "Mis-classifications= 8 out of 1369 equivalent to 0.5843681519357196 %\n",
      "Mis-classifications= 46 out of 4190 equivalent to 1.097852028639618 %\n"
     ]
    },
    {
     "data": {
      "image/png": "[encoded data removed]",
      "text/plain": [
       "<Figure size 640x480 with 1 Axes>"
      ]
     },
     "metadata": {},
     "output_type": "display_data"
    }
   ],
   "source": [
    "#------TRAINING CODE --------------\n",
    "\n",
    "def gaussianClassifierWithCommonCovariance(Xtrain,ytrain):\n",
    "    class1_indices = (ytrain==0)\n",
    "    class2_indices = (ytrain==1)\n",
    "    xTrain1 = Xtrain[class1_indices]\n",
    "    xTrain2 = Xtrain[class2_indices]\n",
    "\n",
    "    # Means\n",
    "    u1 = np.mean(xTrain1, axis=0)\n",
    "    u2 = np.mean(xTrain2, axis=0)\n",
    "\n",
    "    # Creating the Shared COV\n",
    "    class1_demeaned = xTrain1 - u1[None, :]\n",
    "    class2_demeaned = xTrain2 - u2[None, :]\n",
    "    pooled_features = np.row_stack([class1_demeaned,class2_demeaned])\n",
    "    shared_cov = np.cov(np.transpose(pooled_features)) # Ref: Decision_Surfaces MA\n",
    "\n",
    "    ''' Another alternative to pinv():\n",
    "    for i in range(0, len(shared_cov)):\n",
    "        if shared_cov[i][i] < 1:\n",
    "            shared_cov[i][i] = 1\n",
    "    '''\n",
    "\n",
    "    # np.linalg.inv() returns error - use pinv() instead\n",
    "    wT = np.matmul(np.transpose(u2-u1), np.linalg.pinv(shared_cov)) # REF: Decision HyperSurfaces (slide 28)\n",
    "    wNot = -1* np.matmul(wT, (u1+u2)/2)\n",
    "\n",
    "    a = np.transpose(np.hstack((wT, wNot))) # REF: Project phase 1 description\n",
    "\n",
    "    return a\n",
    "    \n",
    "#------SIMPLE TESTING ON THE TRAINING DATA ITSELF --------------\n",
    "a = gaussianClassifierWithCommonCovariance(X_train,y_train)\n",
    "plt.imshow(np.reshape(a[0:784],(28,28)))\n",
    "\n",
    "train = testLinearClassifier(a,X_train,y_train, True)\n",
    "val = testLinearClassifier(a,X_val,y_val, True)\n",
    "test = testLinearClassifier(a,X_test,y_test, True)\n"
   ]
  },
  {
   "cell_type": "markdown",
   "metadata": {},
   "source": [
    "## Define and test logisticRegression \n",
    "\n",
    "You may choose the step size as 1e-4. You can try changing it.\n",
    "\n",
    "Use the expit() function from scipy.special.expit to implement sigmoid without overflow errors "
   ]
  },
  {
   "cell_type": "code",
   "execution_count": 281,
   "metadata": {},
   "outputs": [
    {
     "name": "stdout",
     "output_type": "stream",
     "text": [
      "Mis-classifications= 22 out of 8406 equivalent to 0.26171782060433024 %\n",
      "Mis-classifications= 10 out of 1369 equivalent to 0.7304601899196494 %\n",
      "Mis-classifications= 41 out of 4190 equivalent to 0.9785202863961814 %\n"
     ]
    },
    {
     "data": {
      "image/png": "[encoded data removed]",
      "text/plain": [
       "<Figure size 640x480 with 1 Axes>"
      ]
     },
     "metadata": {},
     "output_type": "display_data"
    }
   ],
   "source": [
    "def logisticRegression(Xtrain,ytrain,iterations=100,step_size=1e-4,verbose=False):\n",
    "    A = np.random.randn(len(Xtrain[0])+1, 1)\n",
    "    Xtilde = np.vstack((Xtrain.T, np.repeat(1, len(Xtrain), axis=0)))\n",
    "\n",
    "    for iter in range(iterations):\n",
    "        s = expit(np.matmul(A.T, Xtilde))\n",
    "        error = s-ytrain\n",
    "        gradient = -np.matmul(Xtilde, error.T)\n",
    "        A = A + step_size*gradient\n",
    "\n",
    "    a = A\n",
    "    \n",
    "    return a\n",
    "    \n",
    "#------SIMPLE TESTING ON THE TRAINING DATA ITSELF --------------\n",
    "a = logisticRegression(X_train,y_train,iterations=500,verbose=False)\n",
    "plt.imshow(np.reshape(a[0:784],(28,28)))\n",
    "\n",
    "train = testLinearClassifier(a,X_train,y_train, True)\n",
    "val = testLinearClassifier(a,X_val,y_val, True)\n",
    "test = testLinearClassifier(a,X_test,y_test, True)\n",
    "\n"
   ]
  },
  {
   "cell_type": "code",
   "execution_count": 282,
   "metadata": {},
   "outputs": [
    {
     "name": "stdout",
     "output_type": "stream",
     "text": [
      "Mis-classifications= 31 out of 8406 equivalent to 0.36878420176064713 %\n",
      "Mis-classifications= 9 out of 1369 equivalent to 0.6574141709276844 %\n",
      "Mis-classifications= 40 out of 4190 equivalent to 0.9546539379474941 %\n"
     ]
    },
    {
     "data": {
      "image/png": "[encoded data removed]",
      "text/plain": [
       "<Figure size 640x480 with 1 Axes>"
      ]
     },
     "metadata": {},
     "output_type": "display_data"
    }
   ],
   "source": [
    "def logisticRegressionWithRegularization(Xtrain,ytrain,iterations=100,step_size=1e-4,lam=0,verbose=False):\n",
    "    A = np.random.randn(len(Xtrain[0])+1, 1)\n",
    "    Xtilde = np.vstack((Xtrain.T, np.repeat(1, len(Xtrain), axis=0)))\n",
    "\n",
    "    for iter in range(iterations):\n",
    "        s = expit(np.matmul(A.T, Xtilde))\n",
    "        error = s-ytrain\n",
    "        gradient = -(np.matmul(Xtilde, error.T) + (2 * lam * A))\n",
    "        A = A + step_size*gradient\n",
    "\n",
    "    a = A\n",
    "    return a\n",
    "\n",
    "    \n",
    "#------SIMPLE TESTING ON THE TRAINING DATA ITSELF --------------\n",
    "a = logisticRegressionWithRegularization(X_train,y_train,iterations=500,verbose=False,lam=50)\n",
    "plt.imshow(np.reshape(a[0:784],(28,28)))\n",
    "\n",
    "train = testLinearClassifier(a,X_train,y_train, True)\n",
    "val = testLinearClassifier(a,X_val,y_val, True)\n",
    "test = testLinearClassifier(a,X_test,y_test, True)\n"
   ]
  },
  {
   "cell_type": "code",
   "execution_count": 283,
   "metadata": {},
   "outputs": [
    {
     "name": "stdout",
     "output_type": "stream",
     "text": [
      "Mis-classifications= 15 out of 8406 equivalent to 0.17844396859386152 %\n",
      "Mis-classifications= 11 out of 1369 equivalent to 0.8035062089116143 %\n",
      "Mis-classifications= 41 out of 4190 equivalent to 0.9785202863961814 %\n"
     ]
    },
    {
     "data": {
      "image/png": "[encoded data removed]",
      "text/plain": [
       "<Figure size 640x480 with 1 Axes>"
      ]
     },
     "metadata": {},
     "output_type": "display_data"
    }
   ],
   "source": [
    "def optimizeHyperparameters(Xtrain,ytrain):\n",
    "    lambdas = np.linspace(-30, 30, 10)\n",
    "    cur_best_val = None\n",
    "    cur_best_lam = None\n",
    "\n",
    "    for lam in lambdas:\n",
    "        a = logisticRegressionWithRegularization(Xtrain,ytrain,iterations=500,verbose=False,lam=lam)\n",
    "        misclass = testLinearClassifier(a, X_val, y_val)\n",
    "        if cur_best_val == None or misclass < cur_best_val:\n",
    "            cur_best_val = misclass\n",
    "            cur_best_lam = lam\n",
    "        \n",
    "    return logisticRegressionWithRegularization(Xtrain,ytrain,iterations=500,verbose=False,lam=cur_best_lam)\n",
    "\n",
    "#------SIMPLE TESTING ON THE TRAINING DATA ITSELF --------------\n",
    "a = optimizeHyperparameters(X_train,y_train)\n",
    "plt.imshow(np.reshape(a[0:784],(28,28)))\n",
    "\n",
    "train = testLinearClassifier(a,X_train,y_train, True)\n",
    "val = testLinearClassifier(a,X_val,y_val, True)\n",
    "test = testLinearClassifier(a,X_test,y_test, True)"
   ]
  },
  {
   "cell_type": "markdown",
   "metadata": {},
   "source": [
    "# REPORT TEST ERRORS OF THE BEST MODELS\n",
    "\n",
    "We can see below that the logistic regression classification appears to produce the fewest mis-classifications. This approach does have a tradeoff of time as it is the slowest of the 4 classification functions. The unregularized logrithmic classification also inherits some randomness, as each run can obtain different misclassification numbers, sometimes worse than the Guassian approach - this is avoided with regularization at the cost of a longer computation"
   ]
  },
  {
   "cell_type": "code",
   "execution_count": 284,
   "metadata": {},
   "outputs": [
    {
     "name": "stdout",
     "output_type": "stream",
     "text": [
      "Results from the Gaussian Identity classifier:\n",
      "Mis-classifications= 86 out of 4190 equivalent to 2.052505966587112 %\n",
      "Results from the Gaussian Shared Covariance classifier:\n",
      "Mis-classifications= 46 out of 4190 equivalent to 1.097852028639618 %\n",
      "Results from the Logistic Regression classifier:\n",
      "Mis-classifications= 33 out of 4190 equivalent to 0.7875894988066826 %\n",
      "Results from the optimized Logistic Reggion with Regularization classifier:\n",
      "Mis-classifications= 36 out of 4190 equivalent to 0.8591885441527447 %\n"
     ]
    }
   ],
   "source": [
    "a_guas_identity = gaussianClassifierWithIdentityCovariance(X_train,y_train)\n",
    "print('Results from the Gaussian Identity classifier:')\n",
    "testLinearClassifier(a_guas_identity, X_test, y_test, True)\n",
    "\n",
    "a_gaus_shared = gaussianClassifierWithCommonCovariance(X_train,y_train)\n",
    "print('Results from the Gaussian Shared Covariance classifier:')\n",
    "testLinearClassifier(a_gaus_shared, X_test, y_test, True)\n",
    "\n",
    "a_log = logisticRegressionWithRegularization(X_train,y_train,iterations=500,verbose=False,lam=50)\n",
    "print('Results from the Logistic Regression classifier:')\n",
    "testLinearClassifier(a_log, X_test, y_test, True)\n",
    "\n",
    "a_log_w_reg = optimizeHyperparameters(X_train, y_train)\n",
    "print('Results from the optimized Logistic Reggion with Regularization classifier:')\n",
    "result = testLinearClassifier(a_log_w_reg, X_test, y_test, True)"
   ]
  }
 ],
 "metadata": {
  "anaconda-cloud": {},
  "kernelspec": {
   "display_name": "Python 3.9.15 ('ml-proj')",
   "language": "python",
   "name": "python3"
  },
  "language_info": {
   "codemirror_mode": {
    "name": "ipython",
    "version": 3
   },
   "file_extension": ".py",
   "mimetype": "text/x-python",
   "name": "python",
   "nbconvert_exporter": "python",
   "pygments_lexer": "ipython3",
   "version": "3.9.15"
  },
  "vscode": {
   "interpreter": {
    "hash": "377185a627b76463a688bd7d2587daad57276c4f4b9fd4f7f9ca2d34ea680e06"
   }
  }
 },
 "nbformat": 4,
 "nbformat_minor": 4
}

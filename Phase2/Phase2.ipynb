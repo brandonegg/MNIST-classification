{
 "cells": [
  {
   "cell_type": "code",
   "execution_count": 99,
   "metadata": {},
   "outputs": [],
   "source": [
    "%matplotlib inline\n",
    "import numpy as np\n",
    "import matplotlib.pyplot as plt\n",
    "from scipy import stats\n",
    "from sklearn.datasets import fetch_openml\n",
    "import pickle\n",
    "from scipy.special import expit\n",
    "from sklearn.model_selection import train_test_split"
   ]
  },
  {
   "cell_type": "markdown",
   "metadata": {},
   "source": [
    "## Open MNIST data and create a subset with desired digits\n",
    "\n",
    "<font color=red>Change the code below to select a different subset </font>"
   ]
  },
  {
   "cell_type": "code",
   "execution_count": 100,
   "metadata": {},
   "outputs": [],
   "source": [
    "X, y = fetch_openml(\"mnist_784\", version=1, return_X_y=True, as_frame=False)\n",
    "y = np.asarray([int(numeric_string) for numeric_string in y])\n",
    "\n",
    "# Saving the temporary variables for fast retrieval\n",
    "with open('temp.pickle', 'wb') as handle:\n",
    "    pickle.dump([X, y], handle)\n"
   ]
  },
  {
   "cell_type": "code",
   "execution_count": 101,
   "metadata": {},
   "outputs": [],
   "source": [
    "# loading the temporary variables for fast retrieval\n",
    "with open('temp.pickle', 'rb') as handle:\n",
    "    X, y = pickle.load(handle)\n",
    "\n",
    "X = X\n",
    "    \n",
    "Nclasses = 10\n",
    "labelclasses = y<Nclasses\n",
    "Xnew = X[labelclasses]\n",
    "ynew = y[labelclasses]\n",
    "Nfeatures = np.size(Xnew,1)\n",
    "Nsamples = np.size(Xnew,0)\n"
   ]
  },
  {
   "cell_type": "code",
   "execution_count": 102,
   "metadata": {},
   "outputs": [],
   "source": [
    " \n",
    "X_train, X_test, y_train, y_test = train_test_split(Xnew, ynew, test_size=0.3, random_state=1)\n",
    "X_train, X_val, y_train, y_val = train_test_split(X_train, y_train, test_size=0.14, random_state=1) # 0.25 x 0.8 = 0.2\n",
    "\n",
    "Nsamples = X_train.shape[0]\n",
    "Nfeatures = X_train.shape[1]\n",
    "\n",
    "X_train = X_train.T\n",
    "X_val = X_val.T\n",
    "X_test = X_test.T\n"
   ]
  },
  {
   "cell_type": "markdown",
   "metadata": {},
   "source": [
    "### The Cell Below Contains Basic Utilities Shared Between Steps"
   ]
  },
  {
   "cell_type": "code",
   "execution_count": 103,
   "metadata": {},
   "outputs": [],
   "source": [
    "def getClassRange(y_data):\n",
    "    \"\"\"get class range\n",
    "\n",
    "    Given a series of class values, since our classes map directly to index values\n",
    "    (0, 1, 2, 3) we take the max and min value of the series to determine what classes\n",
    "    are included in our data.\n",
    "    \"\"\"\n",
    "    return range(np.min(y_data), np.max(y_data)+1)\n",
    "\n",
    "def testLinearMCClassifier(A, x_test, y_expect, output = False):\n",
    "    \"\"\"Test linear multi-class classifier\n",
    "\n",
    "    Given a A matrix, test x and y, compare the expected y with predicted y calculated\n",
    "    by taking A[class#] * x_test. This produces the discriminant for each class. Any negative\n",
    "    values detected for a given classes predicted discriminant line are a misclassification.\n",
    "\n",
    "    Parameters\n",
    "    ----------\n",
    "    A\n",
    "        The matrix A with columns representing a classes 'a' matrix.\n",
    "    x_test\n",
    "        X test data used for verification via producing X_tilde\n",
    "    y_expect\n",
    "        Expected y values for associated x data\n",
    "    output\n",
    "        Whether to print the generic misclassification report\n",
    "\n",
    "    Returns\n",
    "    -------\n",
    "    Int\n",
    "        Number of misclassifications\n",
    "    \"\"\"\n",
    "    misclassifications = 0\n",
    "    total = y_expect.size\n",
    "\n",
    "    x_tilde = np.vstack((x_test, np.ones(len(x_test[0]))))\n",
    "    y_predict = [] #index represents class predictions\n",
    "\n",
    "    for i in getClassRange(y_expect):\n",
    "        a_i = A[i]\n",
    "        y_predict.append(np.matmul(a_i.T, x_tilde))\n",
    "\n",
    "    for i, expect_y in enumerate(y_expect):\n",
    "        y_i = y_predict[expect_y]\n",
    "        if y_i[i] <= 0:\n",
    "            misclassifications += 1\n",
    "\n",
    "    if output:\n",
    "        print(f\"Mis-classifications = {misclassifications} out of {total} equivalent to {(misclassifications / total)*100} %\")\n",
    "\n",
    "    return misclassifications\n",
    "\n",
    "def graphClassifier(A):\n",
    "    \"\"\"Graph classifier\n",
    "\n",
    "    Taking the A matrix, produces a 3x3 plot grid of imshow of A[0-8]\n",
    "\n",
    "    Parameters\n",
    "    ----------\n",
    "    A\n",
    "        The matrix A with columns representing a classe's 'a_i' matrix.\n",
    "\n",
    "    Returns\n",
    "    -------\n",
    "    fig, axs\n",
    "        Matplotlib graphing objects\n",
    "    \"\"\"\n",
    "    fig, axs = plt.subplots(3, 3)\n",
    "    ref = 0\n",
    "    for i in range(0, 3):\n",
    "        for j in range(0, 3):\n",
    "            axs[i, j].set_title(ref)\n",
    "            axs[i, j].imshow(np.reshape(A[ref][0:784],(28,28)))\n",
    "            ref += 1\n",
    "    \n",
    "    return fig, axs\n"
   ]
  },
  {
   "cell_type": "markdown",
   "metadata": {},
   "source": [
    "## Classifiers:\n",
    "\n",
    "### Guassian Multi-Channel Classifier:"
   ]
  },
  {
   "cell_type": "code",
   "execution_count": 104,
   "metadata": {},
   "outputs": [],
   "source": [
    "def gaussianMultiChannelClassifier(x_data, y_data): # Phase2 - step 2\n",
    "    \"\"\"gaussian multi channel classifier\n",
    "\n",
    "    The following computes the multi-channel gaussian classifier with the\n",
    "    identity covariance.\n",
    "\n",
    "    Examples\n",
    "    --------\n",
    "    >>> gaussianMultiChannelClassifier(X_train, y_train)\n",
    "\n",
    "    Parameters\n",
    "    ----------\n",
    "    x_data\n",
    "        The input data set values\n",
    "    y_data\n",
    "        The associated class for each sample\n",
    "\n",
    "    Returns\n",
    "    -------\n",
    "    np.array\n",
    "        A (n x weights) array representing the a_i for a given class in each column\n",
    "        a_i is used to compute discriminant with a_i * x_tilde\n",
    "    \"\"\"\n",
    "    i_cov = np.identity(len(x_data)) #Identity covariance matrix, reused for each class\n",
    "    inv_i_cov = np.linalg.inv(i_cov)\n",
    "    result_a = []\n",
    "\n",
    "    for class_i in getClassRange(y_data):\n",
    "        class_i_indices = (y_data == class_i)\n",
    "        x_i = x_data.T[class_i_indices]\n",
    "        u_i = np.mean(x_i, axis=0)\n",
    "    \n",
    "        W_i = 2*np.matmul(inv_i_cov, u_i)\n",
    "        const_w_i = np.matmul(u_i.T, np.matmul(inv_i_cov, u_i))\n",
    "\n",
    "        a_i = np.hstack((W_i.T, -const_w_i))\n",
    "        result_a.append(a_i)\n",
    "\n",
    "    result_a = np.array(result_a)\n",
    "    return result_a\n"
   ]
  },
  {
   "cell_type": "markdown",
   "metadata": {},
   "source": [
    "### Logistic Regression Multi-Class Classifier"
   ]
  },
  {
   "cell_type": "code",
   "execution_count": 105,
   "metadata": {},
   "outputs": [],
   "source": [
    "def logisticRegressionMultiClassClassifier(x_data, y_data, iterations=100, step_size=1e-4):\n",
    "    \"\"\"logistic regression multiclass classifier\n",
    "\n",
    "    The following computes the logistic regression multiclass classifier and returns the A matrix\n",
    "\n",
    "    Parameters\n",
    "    ----------\n",
    "    x_data\n",
    "        The input data set values\n",
    "    y_data\n",
    "        The associated class for each sample\n",
    "    iterations\n",
    "        Number of iterations performed\n",
    "    step_size\n",
    "        Declared step size each iteration\n",
    "\n",
    "    Returns\n",
    "    -------\n",
    "    np.array\n",
    "        A (n x weights) array representing the a_i for a given class in each column\n",
    "        a_i is used to compute discriminant with a_i * x_tilde\n",
    "    \"\"\"\n",
    "    A = np.random.randn(len(x_data)+1, np.max(y_data)+1)\n",
    "    x_tilde = np.vstack((x_data, np.ones(len(x_data[0]))))\n",
    "\n",
    "    # Translate y_data to new array where column represents class, and column has 0's for not that class, and 1's for that class\n",
    "    y_new = []\n",
    "    for i in getClassRange(y_data):\n",
    "        y_i = (y_data == i)\n",
    "        y_new.append(y_i)\n",
    "    \n",
    "    y_new = np.array(y_new)\n",
    "        \n",
    "    for iter in range(iterations):\n",
    "        s = expit(np.matmul(A.T, x_tilde))\n",
    "        error = s-y_new\n",
    "        gradient = -np.matmul(x_tilde, error.T)\n",
    "        A = A + step_size*gradient\n",
    "\n",
    "    return A.T\n"
   ]
  },
  {
   "cell_type": "markdown",
   "metadata": {},
   "source": [
    "### Logistic Regression Multi-Class Classifier with Regularization"
   ]
  },
  {
   "cell_type": "code",
   "execution_count": 106,
   "metadata": {},
   "outputs": [],
   "source": [
    "def logisticRegressionMultiClassClassifierWithRegularization(x_data,y_data,iterations=100,step_size=1e-4,lam=0):\n",
    "    \"\"\"logistic regression multiclass classifier with regularization\n",
    "\n",
    "    The following computes the logistic regression multiclass classifier WITH regularization (lambda)\n",
    "    and returns the A matrix\n",
    "\n",
    "    Parameters\n",
    "    ----------\n",
    "    x_data\n",
    "        The input data set values\n",
    "    y_data\n",
    "        The associated class for each sample\n",
    "    iterations\n",
    "        Number of iterations performed\n",
    "    step_size\n",
    "        Declared step size each iteration\n",
    "    lam\n",
    "        Regularization value (offset lambda)\n",
    "\n",
    "    Returns\n",
    "    -------\n",
    "    np.array\n",
    "        A (n x weights) array representing the a_i for a given class in each column\n",
    "        a_i is used to compute discriminant with a_i * x_tilde\n",
    "    \"\"\"\n",
    "    A = np.random.randn(len(x_data)+1, np.max(y_data)+1)\n",
    "    x_tilde = np.vstack((x_data, np.ones(len(x_data[0]))))\n",
    "\n",
    "    # Translate y_data to new array where column represents class, and column has 0's for not that class, and 1's for that class\n",
    "    y_new = []\n",
    "    for i in getClassRange(y_data):\n",
    "        y_i = (y_data == i)\n",
    "        y_new.append(y_i)\n",
    "    \n",
    "    y_new = np.array(y_new)\n",
    "\n",
    "    for iter in range(iterations):\n",
    "        s = expit(np.matmul(A.T, x_tilde))\n",
    "        error = s-y_new\n",
    "        gradient = -(np.matmul(x_tilde, error.T) + (2 * lam * A))\n",
    "        A = A + step_size*gradient\n",
    "\n",
    "    return A.T\n",
    "\n",
    "def Optimize_MC_Hyperparameters(x_data ,y_data, range):\n",
    "    \"\"\"Optimize logistic multiclass regularization parameter\n",
    "\n",
    "    The following computes the logistic regression multiclass classifier WITH regularization for each\n",
    "    lambda value in range, returning the A matrix that had the lowest misclassification on the input\n",
    "    dataset.\n",
    "\n",
    "    Parameters\n",
    "    ----------\n",
    "    x_data\n",
    "        The input data set values\n",
    "    y_data\n",
    "        The associated class for each sample\n",
    "    range\n",
    "        Some form of iterable for lambda values to test\n",
    "\n",
    "    Returns\n",
    "    -------\n",
    "    np.array\n",
    "        A (n x weights) array representing the a_i for a given class in each column\n",
    "        a_i is used to compute discriminant with a_i * x_tilde\n",
    "    \"\"\"\n",
    "    best_A = None\n",
    "    best_misclassifications = None\n",
    "    best_lambda = None\n",
    "\n",
    "    for lam in range:\n",
    "        A = logisticRegressionMultiClassClassifierWithRegularization(x_data, y_data, 1000, lam=lam)\n",
    "        misclassifications = testLinearMCClassifier(A, x_data, y_data)\n",
    "\n",
    "        if best_misclassifications == None or misclassifications < best_misclassifications:\n",
    "            best_misclassifications = misclassifications\n",
    "            best_A = A\n",
    "            best_lambda = lam\n",
    "\n",
    "    print(f\"Best lambda: {best_lambda}\")\n",
    "    return best_A\n"
   ]
  },
  {
   "cell_type": "markdown",
   "metadata": {},
   "source": [
    "## Testing Classifier Performance\n",
    "### Guassian Performance"
   ]
  },
  {
   "cell_type": "code",
   "execution_count": 108,
   "metadata": {},
   "outputs": [
    {
     "name": "stdout",
     "output_type": "stream",
     "text": [
      "Guassian Classifier Performance:\n",
      "Mis-classifications = 91 out of 6531 equivalent to 1.3933547695605575 %\n"
     ]
    }
   ],
   "source": [
    "print(\"Guassian Classifier Performance:\")\n",
    "A = gaussianMultiChannelClassifier(X_train, y_train)\n",
    "result = testLinearMCClassifier(A, X_test, y_test, True)\n",
    "fig, axs = graphClassifier(A)"
   ]
  },
  {
   "cell_type": "markdown",
   "metadata": {},
   "source": [
    "### Logistic Regression Performance"
   ]
  },
  {
   "cell_type": "code",
   "execution_count": 127,
   "metadata": {},
   "outputs": [
    {
     "name": "stdout",
     "output_type": "stream",
     "text": [
      "Mis-classifications = 104 out of 6531 equivalent to 1.5924054509263512 %\n"
     ]
    },
    {
     "ename": "IndexError",
     "evalue": "index 3 is out of bounds for axis 0 with size 3",
     "output_type": "error",
     "traceback": [
      "\u001b[0;31m---------------------------------------------------------------------------\u001b[0m",
      "\u001b[0;31mIndexError\u001b[0m                                Traceback (most recent call last)",
      "Cell \u001b[0;32mIn [127], line 3\u001b[0m\n\u001b[1;32m      1\u001b[0m A \u001b[39m=\u001b[39m logisticRegressionMultiClassClassifier(X_train, y_train, \u001b[39m10000\u001b[39m)\n\u001b[1;32m      2\u001b[0m result \u001b[39m=\u001b[39m testLinearMCClassifier(A, X_test, y_test, \u001b[39mTrue\u001b[39;00m)\n\u001b[0;32m----> 3\u001b[0m fig, axs \u001b[39m=\u001b[39m graphClassifier(A)\n",
      "Cell \u001b[0;32mIn [103], line 73\u001b[0m, in \u001b[0;36mgraphClassifier\u001b[0;34m(A)\u001b[0m\n\u001b[1;32m     71\u001b[0m     \u001b[39mfor\u001b[39;00m j \u001b[39min\u001b[39;00m \u001b[39mrange\u001b[39m(\u001b[39m0\u001b[39m, \u001b[39m3\u001b[39m):\n\u001b[1;32m     72\u001b[0m         axs[i, j]\u001b[39m.\u001b[39mset_title(ref)\n\u001b[0;32m---> 73\u001b[0m         axs[i, j]\u001b[39m.\u001b[39mimshow(np\u001b[39m.\u001b[39mreshape(A[ref][\u001b[39m0\u001b[39m:\u001b[39m784\u001b[39m],(\u001b[39m28\u001b[39m,\u001b[39m28\u001b[39m)))\n\u001b[1;32m     74\u001b[0m         ref \u001b[39m+\u001b[39m\u001b[39m=\u001b[39m \u001b[39m1\u001b[39m\n\u001b[1;32m     76\u001b[0m \u001b[39mreturn\u001b[39;00m fig, axs\n",
      "\u001b[0;31mIndexError\u001b[0m: index 3 is out of bounds for axis 0 with size 3"
     ]
    },
    {
     "data": {
      "image/png": "[encoded data removed]",
      "text/plain": [
       "<Figure size 640x480 with 9 Axes>"
      ]
     },
     "metadata": {},
     "output_type": "display_data"
    }
   ],
   "source": [
    "\n",
    "A = logisticRegressionMultiClassClassifier(X_train, y_train, 10000)\n",
    "result = testLinearMCClassifier(A, X_test, y_test, True)\n",
    "fig, axs = graphClassifier(A)\n"
   ]
  },
  {
   "cell_type": "markdown",
   "metadata": {},
   "source": [
    "### Optimized Logistic Regression with Regularization Performance"
   ]
  },
  {
   "cell_type": "code",
   "execution_count": 125,
   "metadata": {},
   "outputs": [
    {
     "name": "stdout",
     "output_type": "stream",
     "text": [
      "Best lambda: 12.0\n",
      "Mis-classifications = 117 out of 6531 equivalent to 1.7914561322921452 %\n"
     ]
    }
   ],
   "source": [
    "A = Optimize_MC_Hyperparameters(X_train, y_train, np.linspace(10, 15, 6))\n",
    "result = testLinearMCClassifier(A, X_test, y_test, True)\n",
    "fig, axs = graphClassifier(A)"
   ]
  },
  {
   "cell_type": "markdown",
   "metadata": {},
   "source": [
    "# Performance Reflections"
   ]
  }
 ],
 "metadata": {
  "anaconda-cloud": {},
  "kernelspec": {
   "display_name": "Python 3.9.15 ('ml-proj')",
   "language": "python",
   "name": "python3"
  },
  "language_info": {
   "codemirror_mode": {
    "name": "ipython",
    "version": 3
   },
   "file_extension": ".py",
   "mimetype": "text/x-python",
   "name": "python",
   "nbconvert_exporter": "python",
   "pygments_lexer": "ipython3",
   "version": "3.9.15"
  },
  "vscode": {
   "interpreter": {
    "hash": "a34231050d3aad25f76f2f2118bebc85cc115d62f7420b94571d1b1ec9b371fd"
   }
  }
 },
 "nbformat": 4,
 "nbformat_minor": 4
}

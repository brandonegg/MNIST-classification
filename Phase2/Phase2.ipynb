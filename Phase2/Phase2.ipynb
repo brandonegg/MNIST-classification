{
 "cells": [
  {
   "cell_type": "code",
   "execution_count": 77,
   "metadata": {},
   "outputs": [],
   "source": [
    "%matplotlib inline\n",
    "import numpy as np\n",
    "import matplotlib.pyplot as plt\n",
    "from scipy import stats\n",
    "from sklearn.datasets import fetch_openml\n",
    "import pickle\n",
    "from scipy.special import expit\n",
    "from sklearn.model_selection import train_test_split"
   ]
  },
  {
   "cell_type": "markdown",
   "metadata": {},
   "source": [
    "## Open MNIST data and create a subset with desired digits\n",
    "\n",
    "<font color=red>Change the code below to select a different subset </font>"
   ]
  },
  {
   "cell_type": "code",
   "execution_count": 78,
   "metadata": {},
   "outputs": [],
   "source": [
    "X, y = fetch_openml(\"mnist_784\", version=1, return_X_y=True, as_frame=False)\n",
    "y = np.asarray([int(numeric_string) for numeric_string in y])\n",
    "\n",
    "# Saving the temporary variables for fast retrieval\n",
    "with open('temp.pickle', 'wb') as handle:\n",
    "    pickle.dump([X, y], handle)\n"
   ]
  },
  {
   "cell_type": "code",
   "execution_count": 79,
   "metadata": {},
   "outputs": [],
   "source": [
    "# loading the temporary variables for fast retrieval\n",
    "with open('temp.pickle', 'rb') as handle:\n",
    "    X, y = pickle.load(handle)\n",
    "\n",
    "X = X\n",
    "    \n",
    "Nclasses = 3\n",
    "labelclasses = y<Nclasses\n",
    "Xnew = X[labelclasses]\n",
    "ynew = y[labelclasses]\n",
    "Nfeatures = np.size(Xnew,1)\n",
    "Nsamples = np.size(Xnew,0)\n"
   ]
  },
  {
   "cell_type": "code",
   "execution_count": 80,
   "metadata": {},
   "outputs": [],
   "source": [
    " \n",
    "X_train, X_test, y_train, y_test = train_test_split(Xnew, ynew, test_size=0.3, random_state=1)\n",
    "X_train, X_val, y_train, y_val = train_test_split(X_train, y_train, test_size=0.14, random_state=1) # 0.25 x 0.8 = 0.2\n",
    "\n",
    "Nsamples = X_train.shape[0]\n",
    "Nfeatures = X_train.shape[1]\n",
    "\n",
    "X_train = X_train.T\n",
    "X_val = X_val.T\n",
    "X_test = X_test.T\n"
   ]
  },
  {
   "cell_type": "code",
   "execution_count": null,
   "metadata": {},
   "outputs": [],
   "source": []
  },
  {
   "cell_type": "code",
   "execution_count": 81,
   "metadata": {},
   "outputs": [
    {
     "name": "stdout",
     "output_type": "stream",
     "text": [
      "(13105,)\n",
      "(13105,)\n",
      "(13105,)\n"
     ]
    }
   ],
   "source": [
    "def gaussianMultiChannelClassifier(x_data, y_data, n): # Phase2 - step 2\n",
    "    \"\"\"gaussian multi channel classifier\n",
    "\n",
    "    The following computes the multi-channel gaussian classifier with the\n",
    "    identity covariance.\n",
    "\n",
    "    Parameters\n",
    "    ----------\n",
    "    x_data\n",
    "        The input data set values\n",
    "    y_data\n",
    "        The associated class for a given 784 pixel grid\n",
    "    n\n",
    "        Number of classes\n",
    "\n",
    "    Returns\n",
    "    -------\n",
    "    np.array\n",
    "        A n x samples array representing the y_i for a given class in each column\n",
    "\n",
    "    \"\"\"\n",
    "    i_cov = np.identity(len(x_data)) #Identity covariance matrix, reused for each class\n",
    "    inv_i_cov = np.linalg.inv(i_cov)\n",
    "    x_tilde = np.vstack((x_data, np.ones(len(x_data[0]))))\n",
    "\n",
    "    for class_i in range(0, n):\n",
    "        class_i_indices = (y_data == class_i)\n",
    "        x_i = x_data.T[class_i_indices]\n",
    "        #x_i_tilde = np.hstack((x_i, np.ones(len(x_i))[None, :].T))\n",
    "        u_i = np.mean(x_i, axis=0)\n",
    "    \n",
    "        W_i = 2*np.matmul(inv_i_cov, u_i)\n",
    "        const_w_i = np.matmul(u_i.T, np.matmul(inv_i_cov, u_i))\n",
    "\n",
    "        a_i = np.hstack((W_i.T, -const_w_i))\n",
    "        y_i = np.matmul(a_i, x_tilde)\n",
    "        print(y_i.shape)\n",
    "\n",
    "# Example usage: gaussianMultiChannelClassifier(X_train, y_train, Nclasses)\n"
   ]
  }
 ],
 "metadata": {
  "anaconda-cloud": {},
  "kernelspec": {
   "display_name": "Python 3.9.15 ('ml-proj')",
   "language": "python",
   "name": "python3"
  },
  "language_info": {
   "codemirror_mode": {
    "name": "ipython",
    "version": 3
   },
   "file_extension": ".py",
   "mimetype": "text/x-python",
   "name": "python",
   "nbconvert_exporter": "python",
   "pygments_lexer": "ipython3",
   "version": "3.9.15"
  },
  "vscode": {
   "interpreter": {
    "hash": "377185a627b76463a688bd7d2587daad57276c4f4b9fd4f7f9ca2d34ea680e06"
   }
  }
 },
 "nbformat": 4,
 "nbformat_minor": 4
}
